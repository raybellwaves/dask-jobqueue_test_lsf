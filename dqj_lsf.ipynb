{
 "cells": [
  {
   "cell_type": "code",
   "execution_count": null,
   "metadata": {},
   "outputs": [],
   "source": [
    "# Import libraries\n",
    "from dask_jobqueue import LSFCluster\n",
    "from dask.distributed import Client\n",
    "import dask.dataframe as dd\n",
    "import dask.array as da"
   ]
  },
  {
   "cell_type": "code",
   "execution_count": null,
   "metadata": {},
   "outputs": [],
   "source": [
    "# Chose a cluster based on job queues. Type 'bqueues' on pegasus\n",
    "\n",
    "#cluster = LSFCluster(cores=10, memory='25 GB', queue='general', walltime='00:10')\n",
    "#cluster = LSFCluster(cores=10, memory='250 GB', queue='bigmem', walltime='00:10')\n",
    "#cluster = LSFCluster(cores=16, memory='25 GB', queue='parallel', walltime='00:10',\n",
    "#                     job_extra=['-R span[ptile=16]'])\n",
    "\n",
    "# Click on 'Manual Scaling' and choose 10-50 workers.\n",
    "cluster"
   ]
  },
  {
   "cell_type": "code",
   "execution_count": null,
   "metadata": {},
   "outputs": [],
   "source": [
    "client = Client(cluster)\n",
    "# Click on the link for the Dask Dashboard\n",
    "client"
   ]
  },
  {
   "cell_type": "code",
   "execution_count": null,
   "metadata": {},
   "outputs": [],
   "source": [
    "# Depending of how many jobs are running either choose the small task (~60 cores; 1Tb of memory)\n",
    "# or the big task (~400 cores; 2Tb of memory)"
   ]
  },
  {
   "cell_type": "code",
   "execution_count": null,
   "metadata": {},
   "outputs": [],
   "source": [
    "# Small task\n",
    "# ~ 10 billion points. 100 Gb data set:\n",
    "df = dd.demo.make_timeseries(start='2000-01-01', end='2000-12-31',\n",
    "                             dtypes={'x': float, 'y': float, 'id': int},\n",
    "                             freq='10ms', partition_freq='24h')\n",
    "df"
   ]
  },
  {
   "cell_type": "code",
   "execution_count": null,
   "metadata": {},
   "outputs": [],
   "source": [
    "df.head()"
   ]
  },
  {
   "cell_type": "code",
   "execution_count": null,
   "metadata": {},
   "outputs": [],
   "source": [
    "# Load the data (persist) into memory\n",
    "df = df.persist()"
   ]
  },
  {
   "cell_type": "code",
   "execution_count": null,
   "metadata": {},
   "outputs": [],
   "source": [
    "# Calculate the mean of the x and y columns for different ids\n",
    "%time df.groupby('id')[['x', 'y']].mean().compute()"
   ]
  },
  {
   "cell_type": "code",
   "execution_count": null,
   "metadata": {},
   "outputs": [],
   "source": [
    "# Calculate a rolling 1 minute window. Take the standard deviation for each windows. \n",
    "# Remove the first and last day of data. Find the index that corresponds to the maximum.\n",
    "%time df.x.rolling('1min').std().loc['2000-01-02':'2000-12-30'].idxmax().compute()"
   ]
  },
  {
   "cell_type": "code",
   "execution_count": null,
   "metadata": {},
   "outputs": [],
   "source": [
    "# Calculate the singular vector decomposition\n",
    "u, s, v = da.linalg.svd(df.values + 1)"
   ]
  },
  {
   "cell_type": "code",
   "execution_count": null,
   "metadata": {},
   "outputs": [],
   "source": [
    "%time s.compute()"
   ]
  },
  {
   "cell_type": "code",
   "execution_count": null,
   "metadata": {},
   "outputs": [],
   "source": [
    "# Big task\n",
    "# ~ 100 billion points. 1 Tb data set:\n",
    "df = dd.demo.make_timeseries(start='2000-01-01', end='2010-12-31',\n",
    "                             dtypes={'x': float, 'y': float, 'id': int},\n",
    "                             freq='10ms', partition_freq='24h')\n",
    "df"
   ]
  },
  {
   "cell_type": "code",
   "execution_count": null,
   "metadata": {},
   "outputs": [],
   "source": [
    "df.head()"
   ]
  },
  {
   "cell_type": "code",
   "execution_count": null,
   "metadata": {},
   "outputs": [],
   "source": [
    "# Load the data (persist) into memory\n",
    "df = df.persist()"
   ]
  },
  {
   "cell_type": "code",
   "execution_count": null,
   "metadata": {},
   "outputs": [],
   "source": [
    "# Calculate the mean of the x and y columns for different ids\n",
    "%time df.groupby('id')[['x', 'y']].mean().compute()"
   ]
  },
  {
   "cell_type": "code",
   "execution_count": null,
   "metadata": {},
   "outputs": [],
   "source": [
    "# Calculate a rolling 1 minute window. Take the standard deviation for each windows. \n",
    "# Remove the first and last day of data. Find the index that corresponds to the maximum.\n",
    "%time df.x.rolling('1min').std().loc['2000-01-02':'2010-12-30'].idxmax().compute()"
   ]
  },
  {
   "cell_type": "code",
   "execution_count": null,
   "metadata": {},
   "outputs": [],
   "source": [
    "# Calculate the singular vector decomposition\n",
    "u, s, v = da.linalg.svd(df.values + 1)"
   ]
  },
  {
   "cell_type": "code",
   "execution_count": null,
   "metadata": {},
   "outputs": [],
   "source": [
    "%time s.compute()"
   ]
  }
 ],
 "metadata": {
  "kernelspec": {
   "display_name": "Python 3",
   "language": "python",
   "name": "python3"
  },
  "language_info": {
   "codemirror_mode": {
    "name": "ipython",
    "version": 3
   },
   "file_extension": ".py",
   "mimetype": "text/x-python",
   "name": "python",
   "nbconvert_exporter": "python",
   "pygments_lexer": "ipython3",
   "version": "3.6.5"
  }
 },
 "nbformat": 4,
 "nbformat_minor": 2
}
